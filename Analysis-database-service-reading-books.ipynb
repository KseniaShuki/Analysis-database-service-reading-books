{
 "cells": [
  {
   "cell_type": "markdown",
   "id": "427a7a1b",
   "metadata": {},
   "source": [
    "# Анализ базы данных сервиса для чтения книг по подписке."
   ]
  },
  {
   "cell_type": "markdown",
   "id": "5d8308ec",
   "metadata": {},
   "source": [
    "## 1. Цели и задачи исследования."
   ]
  },
  {
   "cell_type": "markdown",
   "id": "64b793ef",
   "metadata": {},
   "source": [
    "**Цель** - проанализировать базу данных, содержащую информацию о книгах, издательствах, авторах, а также пользовательские обзоры книг. Анализ  данных поможет сформулировать ценностное предложение для нового продукта.\n",
    "\n",
    "**Задачи:**\n",
    "\n",
    "- Посчитать, сколько книг вышло после 1 января 2000 года;\n",
    "- Для каждой книги посчитать количество обзоров и среднюю оценку;\n",
    "- Определить издательство, которое выпустило наибольшее число книг толще 50 страниц, исключив таким образом из анализа брошюры;\n",
    "- Определить автора с самой высокой средней оценкой книг — учесть только книги с 50 и более оценками;\n",
    "- Посчитайть среднее количество обзоров от пользователей, которые поставили больше 48 оценок.\n",
    "\n",
    "**Описание данных**\n",
    "\n",
    "*Таблица `books`*\n",
    "\n",
    "Содержит данные о книгах:\n",
    "\n",
    "- `book_id` — идентификатор книги;\n",
    "- `author_id` — идентификатор автора;\n",
    "- `title` — название книги;\n",
    "- `num_pages` — количество страниц;\n",
    "- `publication_date` — дата публикации книги;\n",
    "- `publisher_id` — идентификатор издателя.\n",
    "\n",
    "*Таблица `authors`*\n",
    "\n",
    "Содержит данные об авторах:\n",
    "\n",
    "- `author_id` — идентификатор автора;\n",
    "- `author` — имя автора.\n",
    "\n",
    "*Таблица `publishers`*\n",
    "\n",
    "Содержит данные об издательствах:\n",
    "\n",
    "- `publisher_id` — идентификатор издательства;\n",
    "- `publisher` — название издательства;\n",
    "\n",
    "*Таблица `ratings`*\n",
    "\n",
    "Содержит данные о пользовательских оценках книг:\n",
    "\n",
    "- `rating_id` — идентификатор оценки;\n",
    "- `book_id` — идентификатор книги;\n",
    "- `username` — имя пользователя, оставившего оценку;\n",
    "- `rating` — оценка книги.\n",
    "\n",
    "*Таблица `reviews`*\n",
    "\n",
    "Содержит данные о пользовательских обзорах на книги:\n",
    "\n",
    "- `review_id` — идентификатор обзора;\n",
    "- `book_id` — идентификатор книги;\n",
    "- `username` — имя пользователя, написавшего обзор;\n",
    "- `text` — текст обзора."
   ]
  },
  {
   "cell_type": "markdown",
   "id": "45b49631",
   "metadata": {},
   "source": [
    "## 2. Загрузка и изучение данных датафреймов."
   ]
  },
  {
   "cell_type": "code",
   "execution_count": 1,
   "id": "c75e7e74",
   "metadata": {},
   "outputs": [
    {
     "name": "stdout",
     "output_type": "stream",
     "text": [
      "Книги\n"
     ]
    },
    {
     "data": {
      "text/html": [
       "<div>\n",
       "<style scoped>\n",
       "    .dataframe tbody tr th:only-of-type {\n",
       "        vertical-align: middle;\n",
       "    }\n",
       "\n",
       "    .dataframe tbody tr th {\n",
       "        vertical-align: top;\n",
       "    }\n",
       "\n",
       "    .dataframe thead th {\n",
       "        text-align: right;\n",
       "    }\n",
       "</style>\n",
       "<table border=\"1\" class=\"dataframe\">\n",
       "  <thead>\n",
       "    <tr style=\"text-align: right;\">\n",
       "      <th></th>\n",
       "      <th>book_id</th>\n",
       "      <th>author_id</th>\n",
       "      <th>title</th>\n",
       "      <th>num_pages</th>\n",
       "      <th>publication_date</th>\n",
       "      <th>publisher_id</th>\n",
       "    </tr>\n",
       "  </thead>\n",
       "  <tbody>\n",
       "    <tr>\n",
       "      <th>0</th>\n",
       "      <td>1</td>\n",
       "      <td>546</td>\n",
       "      <td>'Salem's Lot</td>\n",
       "      <td>594</td>\n",
       "      <td>2005-11-01</td>\n",
       "      <td>93</td>\n",
       "    </tr>\n",
       "    <tr>\n",
       "      <th>1</th>\n",
       "      <td>2</td>\n",
       "      <td>465</td>\n",
       "      <td>1 000 Places to See Before You Die</td>\n",
       "      <td>992</td>\n",
       "      <td>2003-05-22</td>\n",
       "      <td>336</td>\n",
       "    </tr>\n",
       "    <tr>\n",
       "      <th>2</th>\n",
       "      <td>3</td>\n",
       "      <td>407</td>\n",
       "      <td>13 Little Blue Envelopes (Little Blue Envelope...</td>\n",
       "      <td>322</td>\n",
       "      <td>2010-12-21</td>\n",
       "      <td>135</td>\n",
       "    </tr>\n",
       "    <tr>\n",
       "      <th>3</th>\n",
       "      <td>4</td>\n",
       "      <td>82</td>\n",
       "      <td>1491: New Revelations of the Americas Before C...</td>\n",
       "      <td>541</td>\n",
       "      <td>2006-10-10</td>\n",
       "      <td>309</td>\n",
       "    </tr>\n",
       "    <tr>\n",
       "      <th>4</th>\n",
       "      <td>5</td>\n",
       "      <td>125</td>\n",
       "      <td>1776</td>\n",
       "      <td>386</td>\n",
       "      <td>2006-07-04</td>\n",
       "      <td>268</td>\n",
       "    </tr>\n",
       "  </tbody>\n",
       "</table>\n",
       "</div>"
      ],
      "text/plain": [
       "   book_id  author_id                                              title  \\\n",
       "0        1        546                                       'Salem's Lot   \n",
       "1        2        465                 1 000 Places to See Before You Die   \n",
       "2        3        407  13 Little Blue Envelopes (Little Blue Envelope...   \n",
       "3        4         82  1491: New Revelations of the Americas Before C...   \n",
       "4        5        125                                               1776   \n",
       "\n",
       "   num_pages publication_date  publisher_id  \n",
       "0        594       2005-11-01            93  \n",
       "1        992       2003-05-22           336  \n",
       "2        322       2010-12-21           135  \n",
       "3        541       2006-10-10           309  \n",
       "4        386       2006-07-04           268  "
      ]
     },
     "metadata": {},
     "output_type": "display_data"
    },
    {
     "name": "stdout",
     "output_type": "stream",
     "text": [
      "Авторы\n"
     ]
    },
    {
     "data": {
      "text/html": [
       "<div>\n",
       "<style scoped>\n",
       "    .dataframe tbody tr th:only-of-type {\n",
       "        vertical-align: middle;\n",
       "    }\n",
       "\n",
       "    .dataframe tbody tr th {\n",
       "        vertical-align: top;\n",
       "    }\n",
       "\n",
       "    .dataframe thead th {\n",
       "        text-align: right;\n",
       "    }\n",
       "</style>\n",
       "<table border=\"1\" class=\"dataframe\">\n",
       "  <thead>\n",
       "    <tr style=\"text-align: right;\">\n",
       "      <th></th>\n",
       "      <th>author_id</th>\n",
       "      <th>author</th>\n",
       "    </tr>\n",
       "  </thead>\n",
       "  <tbody>\n",
       "    <tr>\n",
       "      <th>0</th>\n",
       "      <td>1</td>\n",
       "      <td>A.S. Byatt</td>\n",
       "    </tr>\n",
       "    <tr>\n",
       "      <th>1</th>\n",
       "      <td>2</td>\n",
       "      <td>Aesop/Laura Harris/Laura Gibbs</td>\n",
       "    </tr>\n",
       "    <tr>\n",
       "      <th>2</th>\n",
       "      <td>3</td>\n",
       "      <td>Agatha Christie</td>\n",
       "    </tr>\n",
       "    <tr>\n",
       "      <th>3</th>\n",
       "      <td>4</td>\n",
       "      <td>Alan Brennert</td>\n",
       "    </tr>\n",
       "    <tr>\n",
       "      <th>4</th>\n",
       "      <td>5</td>\n",
       "      <td>Alan Moore/David   Lloyd</td>\n",
       "    </tr>\n",
       "  </tbody>\n",
       "</table>\n",
       "</div>"
      ],
      "text/plain": [
       "   author_id                          author\n",
       "0          1                      A.S. Byatt\n",
       "1          2  Aesop/Laura Harris/Laura Gibbs\n",
       "2          3                 Agatha Christie\n",
       "3          4                   Alan Brennert\n",
       "4          5        Alan Moore/David   Lloyd"
      ]
     },
     "metadata": {},
     "output_type": "display_data"
    },
    {
     "name": "stdout",
     "output_type": "stream",
     "text": [
      "Издательства\n"
     ]
    },
    {
     "data": {
      "text/html": [
       "<div>\n",
       "<style scoped>\n",
       "    .dataframe tbody tr th:only-of-type {\n",
       "        vertical-align: middle;\n",
       "    }\n",
       "\n",
       "    .dataframe tbody tr th {\n",
       "        vertical-align: top;\n",
       "    }\n",
       "\n",
       "    .dataframe thead th {\n",
       "        text-align: right;\n",
       "    }\n",
       "</style>\n",
       "<table border=\"1\" class=\"dataframe\">\n",
       "  <thead>\n",
       "    <tr style=\"text-align: right;\">\n",
       "      <th></th>\n",
       "      <th>publisher_id</th>\n",
       "      <th>publisher</th>\n",
       "    </tr>\n",
       "  </thead>\n",
       "  <tbody>\n",
       "    <tr>\n",
       "      <th>0</th>\n",
       "      <td>1</td>\n",
       "      <td>Ace</td>\n",
       "    </tr>\n",
       "    <tr>\n",
       "      <th>1</th>\n",
       "      <td>2</td>\n",
       "      <td>Ace Book</td>\n",
       "    </tr>\n",
       "    <tr>\n",
       "      <th>2</th>\n",
       "      <td>3</td>\n",
       "      <td>Ace Books</td>\n",
       "    </tr>\n",
       "    <tr>\n",
       "      <th>3</th>\n",
       "      <td>4</td>\n",
       "      <td>Ace Hardcover</td>\n",
       "    </tr>\n",
       "    <tr>\n",
       "      <th>4</th>\n",
       "      <td>5</td>\n",
       "      <td>Addison Wesley Publishing Company</td>\n",
       "    </tr>\n",
       "  </tbody>\n",
       "</table>\n",
       "</div>"
      ],
      "text/plain": [
       "   publisher_id                          publisher\n",
       "0             1                                Ace\n",
       "1             2                           Ace Book\n",
       "2             3                          Ace Books\n",
       "3             4                      Ace Hardcover\n",
       "4             5  Addison Wesley Publishing Company"
      ]
     },
     "metadata": {},
     "output_type": "display_data"
    },
    {
     "name": "stdout",
     "output_type": "stream",
     "text": [
      "Оценки\n"
     ]
    },
    {
     "data": {
      "text/html": [
       "<div>\n",
       "<style scoped>\n",
       "    .dataframe tbody tr th:only-of-type {\n",
       "        vertical-align: middle;\n",
       "    }\n",
       "\n",
       "    .dataframe tbody tr th {\n",
       "        vertical-align: top;\n",
       "    }\n",
       "\n",
       "    .dataframe thead th {\n",
       "        text-align: right;\n",
       "    }\n",
       "</style>\n",
       "<table border=\"1\" class=\"dataframe\">\n",
       "  <thead>\n",
       "    <tr style=\"text-align: right;\">\n",
       "      <th></th>\n",
       "      <th>rating_id</th>\n",
       "      <th>book_id</th>\n",
       "      <th>username</th>\n",
       "      <th>rating</th>\n",
       "    </tr>\n",
       "  </thead>\n",
       "  <tbody>\n",
       "    <tr>\n",
       "      <th>0</th>\n",
       "      <td>1</td>\n",
       "      <td>1</td>\n",
       "      <td>ryanfranco</td>\n",
       "      <td>4</td>\n",
       "    </tr>\n",
       "    <tr>\n",
       "      <th>1</th>\n",
       "      <td>2</td>\n",
       "      <td>1</td>\n",
       "      <td>grantpatricia</td>\n",
       "      <td>2</td>\n",
       "    </tr>\n",
       "    <tr>\n",
       "      <th>2</th>\n",
       "      <td>3</td>\n",
       "      <td>1</td>\n",
       "      <td>brandtandrea</td>\n",
       "      <td>5</td>\n",
       "    </tr>\n",
       "    <tr>\n",
       "      <th>3</th>\n",
       "      <td>4</td>\n",
       "      <td>2</td>\n",
       "      <td>lorichen</td>\n",
       "      <td>3</td>\n",
       "    </tr>\n",
       "    <tr>\n",
       "      <th>4</th>\n",
       "      <td>5</td>\n",
       "      <td>2</td>\n",
       "      <td>mariokeller</td>\n",
       "      <td>2</td>\n",
       "    </tr>\n",
       "  </tbody>\n",
       "</table>\n",
       "</div>"
      ],
      "text/plain": [
       "   rating_id  book_id       username  rating\n",
       "0          1        1     ryanfranco       4\n",
       "1          2        1  grantpatricia       2\n",
       "2          3        1   brandtandrea       5\n",
       "3          4        2       lorichen       3\n",
       "4          5        2    mariokeller       2"
      ]
     },
     "metadata": {},
     "output_type": "display_data"
    },
    {
     "name": "stdout",
     "output_type": "stream",
     "text": [
      "Обзоры\n"
     ]
    },
    {
     "data": {
      "text/html": [
       "<div>\n",
       "<style scoped>\n",
       "    .dataframe tbody tr th:only-of-type {\n",
       "        vertical-align: middle;\n",
       "    }\n",
       "\n",
       "    .dataframe tbody tr th {\n",
       "        vertical-align: top;\n",
       "    }\n",
       "\n",
       "    .dataframe thead th {\n",
       "        text-align: right;\n",
       "    }\n",
       "</style>\n",
       "<table border=\"1\" class=\"dataframe\">\n",
       "  <thead>\n",
       "    <tr style=\"text-align: right;\">\n",
       "      <th></th>\n",
       "      <th>review_id</th>\n",
       "      <th>book_id</th>\n",
       "      <th>username</th>\n",
       "      <th>text</th>\n",
       "    </tr>\n",
       "  </thead>\n",
       "  <tbody>\n",
       "    <tr>\n",
       "      <th>0</th>\n",
       "      <td>1</td>\n",
       "      <td>1</td>\n",
       "      <td>brandtandrea</td>\n",
       "      <td>Mention society tell send professor analysis. ...</td>\n",
       "    </tr>\n",
       "    <tr>\n",
       "      <th>1</th>\n",
       "      <td>2</td>\n",
       "      <td>1</td>\n",
       "      <td>ryanfranco</td>\n",
       "      <td>Foot glass pretty audience hit themselves. Amo...</td>\n",
       "    </tr>\n",
       "    <tr>\n",
       "      <th>2</th>\n",
       "      <td>3</td>\n",
       "      <td>2</td>\n",
       "      <td>lorichen</td>\n",
       "      <td>Listen treat keep worry. Miss husband tax but ...</td>\n",
       "    </tr>\n",
       "    <tr>\n",
       "      <th>3</th>\n",
       "      <td>4</td>\n",
       "      <td>3</td>\n",
       "      <td>johnsonamanda</td>\n",
       "      <td>Finally month interesting blue could nature cu...</td>\n",
       "    </tr>\n",
       "    <tr>\n",
       "      <th>4</th>\n",
       "      <td>5</td>\n",
       "      <td>3</td>\n",
       "      <td>scotttamara</td>\n",
       "      <td>Nation purpose heavy give wait song will. List...</td>\n",
       "    </tr>\n",
       "  </tbody>\n",
       "</table>\n",
       "</div>"
      ],
      "text/plain": [
       "   review_id  book_id       username  \\\n",
       "0          1        1   brandtandrea   \n",
       "1          2        1     ryanfranco   \n",
       "2          3        2       lorichen   \n",
       "3          4        3  johnsonamanda   \n",
       "4          5        3    scotttamara   \n",
       "\n",
       "                                                text  \n",
       "0  Mention society tell send professor analysis. ...  \n",
       "1  Foot glass pretty audience hit themselves. Amo...  \n",
       "2  Listen treat keep worry. Miss husband tax but ...  \n",
       "3  Finally month interesting blue could nature cu...  \n",
       "4  Nation purpose heavy give wait song will. List...  "
      ]
     },
     "metadata": {},
     "output_type": "display_data"
    }
   ],
   "source": [
    "# импортируем библиотеки\n",
    "import pandas as pd\n",
    "from sqlalchemy import text, create_engine\n",
    "\n",
    "# устанавливаем параметры\n",
    "db_config = {'user': 'praktikum_student', # имя пользователя\n",
    "'pwd': 'Sdf4$2;d-d30pp', # пароль\n",
    "'host': 'rc1b-wcoijxj3yxfsf3fs.mdb.yandexcloud.net',\n",
    "'port': 6432, # порт подключения\n",
    "'db': 'data-analyst-final-project-db'} # название базы данных\n",
    "connection_string = 'postgresql://{user}:{pwd}@{host}:{port}/{db}'.format(**db_config)\n",
    "\n",
    "# сохраняем коннектор\n",
    "engine = create_engine(connection_string, connect_args={'sslmode':'require'})\n",
    "\n",
    "# чтобы выполнить SQL-запрос, используем Pandas\n",
    "query = '''SELECT * FROM books LIMIT 5'''\n",
    "query1 = '''SELECT * FROM authors LIMIT 5'''\n",
    "query2 = '''SELECT * FROM publishers LIMIT 5'''\n",
    "query3 = '''SELECT * FROM ratings LIMIT 5'''\n",
    "query4 = '''SELECT * FROM reviews LIMIT 5'''\n",
    "\n",
    "con=engine.connect()\n",
    "\n",
    "print('Книги')\n",
    "display(pd.io.sql.read_sql(sql=text(query), con = con))\n",
    "print('Авторы')\n",
    "display(pd.io.sql.read_sql(sql=text(query1), con = con))\n",
    "print('Издательства')\n",
    "display(pd.io.sql.read_sql(sql=text(query2), con = con))\n",
    "print('Оценки')\n",
    "display(pd.io.sql.read_sql(sql=text(query3), con = con))\n",
    "print('Обзоры')\n",
    "display(pd.io.sql.read_sql(sql=text(query4), con = con))"
   ]
  },
  {
   "cell_type": "markdown",
   "id": "2d82b3f8",
   "metadata": {},
   "source": [
    "## 3. Расчет количества книг, вышедших после 1 января 2000 года."
   ]
  },
  {
   "cell_type": "code",
   "execution_count": 2,
   "id": "62797e0a",
   "metadata": {},
   "outputs": [
    {
     "data": {
      "text/html": [
       "<div>\n",
       "<style scoped>\n",
       "    .dataframe tbody tr th:only-of-type {\n",
       "        vertical-align: middle;\n",
       "    }\n",
       "\n",
       "    .dataframe tbody tr th {\n",
       "        vertical-align: top;\n",
       "    }\n",
       "\n",
       "    .dataframe thead th {\n",
       "        text-align: right;\n",
       "    }\n",
       "</style>\n",
       "<table border=\"1\" class=\"dataframe\">\n",
       "  <thead>\n",
       "    <tr style=\"text-align: right;\">\n",
       "      <th></th>\n",
       "      <th>count</th>\n",
       "    </tr>\n",
       "  </thead>\n",
       "  <tbody>\n",
       "    <tr>\n",
       "      <th>0</th>\n",
       "      <td>821</td>\n",
       "    </tr>\n",
       "  </tbody>\n",
       "</table>\n",
       "</div>"
      ],
      "text/plain": [
       "   count\n",
       "0    821"
      ]
     },
     "metadata": {},
     "output_type": "display_data"
    }
   ],
   "source": [
    "query5 = '''\n",
    "\n",
    "SELECT COUNT(num_pages)\n",
    "FROM books\n",
    "WHERE CAST(publication_date AS date) >= '2000-01-01'\n",
    "\n",
    "'''\n",
    "\n",
    "con=engine.connect()\n",
    "display(pd.io.sql.read_sql(sql=text(query5), con = con))"
   ]
  },
  {
   "cell_type": "markdown",
   "id": "a393211a",
   "metadata": {},
   "source": [
    "**Вывод**\n",
    "\n",
    "С 1 января 2000 г вышла 821 книга."
   ]
  },
  {
   "cell_type": "markdown",
   "id": "f9aff10e",
   "metadata": {},
   "source": [
    "## 4. Расчет количества обзоров и средней оценки для каждой книги."
   ]
  },
  {
   "cell_type": "code",
   "execution_count": 3,
   "id": "56f40dfe",
   "metadata": {},
   "outputs": [
    {
     "data": {
      "text/html": [
       "<div>\n",
       "<style scoped>\n",
       "    .dataframe tbody tr th:only-of-type {\n",
       "        vertical-align: middle;\n",
       "    }\n",
       "\n",
       "    .dataframe tbody tr th {\n",
       "        vertical-align: top;\n",
       "    }\n",
       "\n",
       "    .dataframe thead th {\n",
       "        text-align: right;\n",
       "    }\n",
       "</style>\n",
       "<table border=\"1\" class=\"dataframe\">\n",
       "  <thead>\n",
       "    <tr style=\"text-align: right;\">\n",
       "      <th></th>\n",
       "      <th>count</th>\n",
       "    </tr>\n",
       "  </thead>\n",
       "  <tbody>\n",
       "    <tr>\n",
       "      <th>0</th>\n",
       "      <td>994</td>\n",
       "    </tr>\n",
       "  </tbody>\n",
       "</table>\n",
       "</div>"
      ],
      "text/plain": [
       "   count\n",
       "0    994"
      ]
     },
     "metadata": {},
     "output_type": "display_data"
    }
   ],
   "source": [
    "query6 = '''\n",
    "\n",
    "-- узнаем количество книг в датафрейме reviews\n",
    "SELECT COUNT(DISTINCT book_id)\n",
    "      FROM reviews;\n",
    "\n",
    " '''     \n",
    "\n",
    "con=engine.connect()\n",
    "display(pd.io.sql.read_sql(sql=text(query6), con = con))"
   ]
  },
  {
   "cell_type": "code",
   "execution_count": 4,
   "id": "deadecad",
   "metadata": {},
   "outputs": [
    {
     "data": {
      "text/html": [
       "<div>\n",
       "<style scoped>\n",
       "    .dataframe tbody tr th:only-of-type {\n",
       "        vertical-align: middle;\n",
       "    }\n",
       "\n",
       "    .dataframe tbody tr th {\n",
       "        vertical-align: top;\n",
       "    }\n",
       "\n",
       "    .dataframe thead th {\n",
       "        text-align: right;\n",
       "    }\n",
       "</style>\n",
       "<table border=\"1\" class=\"dataframe\">\n",
       "  <thead>\n",
       "    <tr style=\"text-align: right;\">\n",
       "      <th></th>\n",
       "      <th>count</th>\n",
       "    </tr>\n",
       "  </thead>\n",
       "  <tbody>\n",
       "    <tr>\n",
       "      <th>0</th>\n",
       "      <td>1000</td>\n",
       "    </tr>\n",
       "  </tbody>\n",
       "</table>\n",
       "</div>"
      ],
      "text/plain": [
       "   count\n",
       "0   1000"
      ]
     },
     "metadata": {},
     "output_type": "display_data"
    }
   ],
   "source": [
    "query7 = '''\n",
    "\n",
    "-- узнаем количество книг в датафрейме ratings\n",
    "SELECT COUNT(DISTINCT book_id)\n",
    "      FROM ratings;\n",
    "\n",
    " '''     \n",
    "\n",
    "con=engine.connect()\n",
    "display(pd.io.sql.read_sql(sql=text(query7), con = con))"
   ]
  },
  {
   "cell_type": "code",
   "execution_count": 5,
   "id": "a119d3f7",
   "metadata": {},
   "outputs": [
    {
     "data": {
      "text/html": [
       "<div>\n",
       "<style scoped>\n",
       "    .dataframe tbody tr th:only-of-type {\n",
       "        vertical-align: middle;\n",
       "    }\n",
       "\n",
       "    .dataframe tbody tr th {\n",
       "        vertical-align: top;\n",
       "    }\n",
       "\n",
       "    .dataframe thead th {\n",
       "        text-align: right;\n",
       "    }\n",
       "</style>\n",
       "<table border=\"1\" class=\"dataframe\">\n",
       "  <thead>\n",
       "    <tr style=\"text-align: right;\">\n",
       "      <th></th>\n",
       "      <th>book_id</th>\n",
       "      <th>review</th>\n",
       "      <th>avg_rating</th>\n",
       "    </tr>\n",
       "  </thead>\n",
       "  <tbody>\n",
       "    <tr>\n",
       "      <th>0</th>\n",
       "      <td>NaN</td>\n",
       "      <td>NaN</td>\n",
       "      <td>4.000000</td>\n",
       "    </tr>\n",
       "    <tr>\n",
       "      <th>1</th>\n",
       "      <td>NaN</td>\n",
       "      <td>NaN</td>\n",
       "      <td>4.000000</td>\n",
       "    </tr>\n",
       "    <tr>\n",
       "      <th>2</th>\n",
       "      <td>NaN</td>\n",
       "      <td>NaN</td>\n",
       "      <td>4.000000</td>\n",
       "    </tr>\n",
       "    <tr>\n",
       "      <th>3</th>\n",
       "      <td>NaN</td>\n",
       "      <td>NaN</td>\n",
       "      <td>3.000000</td>\n",
       "    </tr>\n",
       "    <tr>\n",
       "      <th>4</th>\n",
       "      <td>NaN</td>\n",
       "      <td>NaN</td>\n",
       "      <td>5.000000</td>\n",
       "    </tr>\n",
       "    <tr>\n",
       "      <th>5</th>\n",
       "      <td>NaN</td>\n",
       "      <td>NaN</td>\n",
       "      <td>3.666667</td>\n",
       "    </tr>\n",
       "    <tr>\n",
       "      <th>6</th>\n",
       "      <td>948.0</td>\n",
       "      <td>7.0</td>\n",
       "      <td>3.662500</td>\n",
       "    </tr>\n",
       "    <tr>\n",
       "      <th>7</th>\n",
       "      <td>497.0</td>\n",
       "      <td>6.0</td>\n",
       "      <td>4.125000</td>\n",
       "    </tr>\n",
       "    <tr>\n",
       "      <th>8</th>\n",
       "      <td>627.0</td>\n",
       "      <td>6.0</td>\n",
       "      <td>3.789474</td>\n",
       "    </tr>\n",
       "    <tr>\n",
       "      <th>9</th>\n",
       "      <td>299.0</td>\n",
       "      <td>6.0</td>\n",
       "      <td>4.287500</td>\n",
       "    </tr>\n",
       "  </tbody>\n",
       "</table>\n",
       "</div>"
      ],
      "text/plain": [
       "   book_id  review  avg_rating\n",
       "0      NaN     NaN    4.000000\n",
       "1      NaN     NaN    4.000000\n",
       "2      NaN     NaN    4.000000\n",
       "3      NaN     NaN    3.000000\n",
       "4      NaN     NaN    5.000000\n",
       "5      NaN     NaN    3.666667\n",
       "6    948.0     7.0    3.662500\n",
       "7    497.0     6.0    4.125000\n",
       "8    627.0     6.0    3.789474\n",
       "9    299.0     6.0    4.287500"
      ]
     },
     "metadata": {},
     "output_type": "display_data"
    }
   ],
   "source": [
    "query8 = '''\n",
    "\n",
    "WITH\n",
    "--первый подзапрос\n",
    "tb1 AS\n",
    "     (SELECT book_id,\n",
    "             COUNT(reviews.username) AS review\n",
    "      FROM reviews\n",
    "      GROUP BY book_id),\n",
    "      \n",
    "-- второй подзапрос \n",
    "tb2 AS \n",
    "    (SELECT book_id,\n",
    "            AVG(ratings.rating) AS avg_rating\n",
    "    FROM ratings\n",
    "    GROUP BY book_id)\n",
    "    \n",
    "--общий запрос\n",
    "SELECT tb1.book_id,\n",
    "       tb1.review,\n",
    "       tb2.avg_rating   \n",
    "FROM tb1 FULL OUTER JOIN tb2 ON tb2.book_id = tb1.book_id\n",
    "ORDER BY tb1.review DESC\n",
    "LIMIT 10;\n",
    " '''   \n",
    "    \n",
    "\n",
    "con=engine.connect()\n",
    "display(pd.io.sql.read_sql(sql=text(query8), con = con))"
   ]
  },
  {
   "cell_type": "markdown",
   "id": "26308287",
   "metadata": {},
   "source": [
    "**Вывод**\n",
    "\n",
    "Для каждой книги расчитаны количество обзоров и средняя оценка. Всего книг 1000шт. У книг, по которым не проведен ни один обзор, в ячейках столбца 'review' будет пропуск."
   ]
  },
  {
   "cell_type": "markdown",
   "id": "45b96fcf",
   "metadata": {},
   "source": [
    "## 5. Определение издательства, которое выпустило наибольшее число книг толще 50 страниц."
   ]
  },
  {
   "cell_type": "code",
   "execution_count": 6,
   "id": "49be993c",
   "metadata": {},
   "outputs": [
    {
     "data": {
      "text/html": [
       "<div>\n",
       "<style scoped>\n",
       "    .dataframe tbody tr th:only-of-type {\n",
       "        vertical-align: middle;\n",
       "    }\n",
       "\n",
       "    .dataframe tbody tr th {\n",
       "        vertical-align: top;\n",
       "    }\n",
       "\n",
       "    .dataframe thead th {\n",
       "        text-align: right;\n",
       "    }\n",
       "</style>\n",
       "<table border=\"1\" class=\"dataframe\">\n",
       "  <thead>\n",
       "    <tr style=\"text-align: right;\">\n",
       "      <th></th>\n",
       "      <th>publisher</th>\n",
       "      <th>book_count</th>\n",
       "    </tr>\n",
       "  </thead>\n",
       "  <tbody>\n",
       "    <tr>\n",
       "      <th>0</th>\n",
       "      <td>Penguin Books</td>\n",
       "      <td>42</td>\n",
       "    </tr>\n",
       "  </tbody>\n",
       "</table>\n",
       "</div>"
      ],
      "text/plain": [
       "       publisher  book_count\n",
       "0  Penguin Books          42"
      ]
     },
     "metadata": {},
     "output_type": "display_data"
    }
   ],
   "source": [
    "query9 = '''\n",
    "\n",
    " \n",
    "SELECT publishers.publisher,\n",
    "       COUNT(books.title) AS book_count\n",
    "FROM books\n",
    "LEFT OUTER JOIN publishers ON publishers.publisher_id = books.publisher_id\n",
    "WHERE books.num_pages > 50\n",
    "GROUP BY publishers.publisher\n",
    "ORDER BY book_count DESC\n",
    "LIMIT 1         \n",
    "\n",
    "'''\n",
    "\n",
    "con=engine.connect()\n",
    "display(pd.io.sql.read_sql(sql=text(query9), con = con))"
   ]
  },
  {
   "cell_type": "markdown",
   "id": "51e9a539",
   "metadata": {},
   "source": [
    "**Вывод**\n",
    "\n",
    "Издательство Penguin Books выпустило больше всего книг - 42шт."
   ]
  },
  {
   "cell_type": "markdown",
   "id": "a85b447e",
   "metadata": {},
   "source": [
    "## 6. Определение автора с самой высокой средней оценкой книг.\n",
    "\n",
    "(учитывайте только книги с 50 и более оценками)"
   ]
  },
  {
   "cell_type": "code",
   "execution_count": 7,
   "id": "39aff866",
   "metadata": {},
   "outputs": [
    {
     "data": {
      "text/html": [
       "<div>\n",
       "<style scoped>\n",
       "    .dataframe tbody tr th:only-of-type {\n",
       "        vertical-align: middle;\n",
       "    }\n",
       "\n",
       "    .dataframe tbody tr th {\n",
       "        vertical-align: top;\n",
       "    }\n",
       "\n",
       "    .dataframe thead th {\n",
       "        text-align: right;\n",
       "    }\n",
       "</style>\n",
       "<table border=\"1\" class=\"dataframe\">\n",
       "  <thead>\n",
       "    <tr style=\"text-align: right;\">\n",
       "      <th></th>\n",
       "      <th>author</th>\n",
       "      <th>rating</th>\n",
       "    </tr>\n",
       "  </thead>\n",
       "  <tbody>\n",
       "    <tr>\n",
       "      <th>0</th>\n",
       "      <td>J.K. Rowling/Mary GrandPré</td>\n",
       "      <td>4.283844</td>\n",
       "    </tr>\n",
       "  </tbody>\n",
       "</table>\n",
       "</div>"
      ],
      "text/plain": [
       "                       author    rating\n",
       "0  J.K. Rowling/Mary GrandPré  4.283844"
      ]
     },
     "metadata": {},
     "output_type": "display_data"
    }
   ],
   "source": [
    "query10 = '''\n",
    "\n",
    "WITH\n",
    "--первый подзапрос средний рейтинг по каждой книге с условием количества оценок книги больше 50\n",
    "tb3 AS \n",
    "    (SELECT book_id,\n",
    "            AVG(rating) AS avg_rating\n",
    "    FROM ratings\n",
    "    GROUP BY book_id\n",
    "    HAVING COUNT(rating_id) >= 50),\n",
    "    \n",
    "    \n",
    "-- второй подзапрос соединим таблицы books и authors\n",
    "tb4 AS\n",
    "    (SELECT books.book_id,\n",
    "            books.title,\n",
    "            authors.author      \n",
    "    FROM books\n",
    "    LEFT OUTER JOIN authors ON authors.author_id = books.author_id)\n",
    "\n",
    "-- объединяем подзапросы и считаем средний рейтинг автора по всем книгам\n",
    "SELECT tb4.author,\n",
    "       AVG(tb3.avg_rating) AS rating  \n",
    "FROM tb4 INNER JOIN tb3 ON tb3.book_id = tb4.book_id\n",
    "GROUP BY tb4.author\n",
    "ORDER BY AVG(tb3.avg_rating) DESC\n",
    "LIMIT 1;\n",
    "\n",
    "'''\n",
    "\n",
    "con=engine.connect()\n",
    "display(pd.io.sql.read_sql(sql=text(query10), con = con))"
   ]
  },
  {
   "cell_type": "markdown",
   "id": "74f228b0",
   "metadata": {},
   "source": [
    "**Вывод**\n",
    "\n",
    "Самый высокий средний рейтинг по оценке всех книг автора принадлежит J.K. Rowling - 4,28."
   ]
  },
  {
   "cell_type": "markdown",
   "id": "99c0ffbe",
   "metadata": {},
   "source": [
    "## 7. Расчет среднего количества обзоров от пользователей, которые поставили больше 48 оценок."
   ]
  },
  {
   "cell_type": "code",
   "execution_count": 8,
   "id": "4616db32",
   "metadata": {},
   "outputs": [
    {
     "data": {
      "text/html": [
       "<div>\n",
       "<style scoped>\n",
       "    .dataframe tbody tr th:only-of-type {\n",
       "        vertical-align: middle;\n",
       "    }\n",
       "\n",
       "    .dataframe tbody tr th {\n",
       "        vertical-align: top;\n",
       "    }\n",
       "\n",
       "    .dataframe thead th {\n",
       "        text-align: right;\n",
       "    }\n",
       "</style>\n",
       "<table border=\"1\" class=\"dataframe\">\n",
       "  <thead>\n",
       "    <tr style=\"text-align: right;\">\n",
       "      <th></th>\n",
       "      <th>avg</th>\n",
       "    </tr>\n",
       "  </thead>\n",
       "  <tbody>\n",
       "    <tr>\n",
       "      <th>0</th>\n",
       "      <td>24.0</td>\n",
       "    </tr>\n",
       "  </tbody>\n",
       "</table>\n",
       "</div>"
      ],
      "text/plain": [
       "    avg\n",
       "0  24.0"
      ]
     },
     "metadata": {},
     "output_type": "display_data"
    }
   ],
   "source": [
    "query11 = '''\n",
    "\n",
    "WITH\n",
    "--первый подзапрос средний рейтинг по каждой книге с условием количества оценок книги больше 48\n",
    "tb5 AS \n",
    "(SELECT username\n",
    " FROM ratings\n",
    " GROUP BY username\n",
    " HAVING COUNT(rating) > 48),\n",
    "\n",
    "-- второй подзапрос расчет среднего количества обзоров по пользователям\n",
    "tb6 AS\n",
    "(SELECT COUNT(review_id) AS count_review,\n",
    "        username\n",
    " FROM reviews\n",
    " GROUP BY username)\n",
    "\n",
    "-- объединяем и считаем среднее количество обзоров\n",
    "\n",
    "SELECT AVG(tb6.count_review)\n",
    "FROM tb6 \n",
    "INNER JOIN tb5 ON tb5.username = tb6.username;\n",
    "\n",
    "'''\n",
    "\n",
    "con=engine.connect()\n",
    "display(pd.io.sql.read_sql(sql=text(query11), con = con))"
   ]
  },
  {
   "cell_type": "markdown",
   "id": "1138e67c",
   "metadata": {},
   "source": [
    "**Вывод** \n",
    "\n",
    "В среднем количество обзоров от пользователей , поставивших больше 48 оценок - 24."
   ]
  },
  {
   "cell_type": "markdown",
   "id": "0909b0dd",
   "metadata": {},
   "source": [
    "## 8. Общий вывод."
   ]
  },
  {
   "cell_type": "markdown",
   "id": "ec9b57e4",
   "metadata": {},
   "source": [
    "Анализ базы данных позволил получить следующие результаты:\n",
    "\n",
    "1. Начиная с 2000 года, была выпущена 821 книга.\n",
    "2. Из 1000 книг максимальная средняя оценка книги 5.0, минимальная - 1.5.\n",
    "3. В данных присутствуют книги у которых не т ни одного обзора.\n",
    "4. Максимальное количество книг выпустило издательство Penguin Books - 42шт.\n",
    "5. Самую высокую среднюю оценку книг получила J.K. Rowling - 4.28.\n",
    "6. Среднее количество обзоров от пользователей, поставивших больше 48 оценок - 24."
   ]
  }
 ],
 "metadata": {
  "ExecuteTimeLog": [
   {
    "duration": 13760,
    "start_time": "2023-08-15T10:27:11.695Z"
   },
   {
    "duration": 147,
    "start_time": "2023-08-15T10:28:01.554Z"
   },
   {
    "duration": 56,
    "start_time": "2023-08-15T10:29:12.626Z"
   },
   {
    "duration": 58,
    "start_time": "2023-08-15T10:29:24.014Z"
   },
   {
    "duration": 84,
    "start_time": "2023-08-15T10:29:37.531Z"
   },
   {
    "duration": 18458,
    "start_time": "2023-08-15T10:29:46.720Z"
   },
   {
    "duration": 145,
    "start_time": "2023-08-15T10:30:05.181Z"
   },
   {
    "duration": 55,
    "start_time": "2023-08-15T10:30:05.327Z"
   },
   {
    "duration": 54,
    "start_time": "2023-08-15T10:30:05.384Z"
   },
   {
    "duration": 85,
    "start_time": "2023-08-15T10:30:05.441Z"
   },
   {
    "duration": 61,
    "start_time": "2023-08-15T10:35:27.801Z"
   },
   {
    "duration": 55,
    "start_time": "2023-08-15T10:36:25.080Z"
   },
   {
    "duration": 58,
    "start_time": "2023-08-15T10:37:01.070Z"
   },
   {
    "duration": 58,
    "start_time": "2023-08-15T10:38:05.910Z"
   },
   {
    "duration": 87,
    "start_time": "2023-08-15T10:38:28.227Z"
   },
   {
    "duration": 17888,
    "start_time": "2023-08-15T10:39:09.705Z"
   },
   {
    "duration": 124,
    "start_time": "2023-08-15T10:39:27.595Z"
   },
   {
    "duration": 52,
    "start_time": "2023-08-15T10:39:27.722Z"
   },
   {
    "duration": 52,
    "start_time": "2023-08-15T10:39:27.776Z"
   },
   {
    "duration": 66,
    "start_time": "2023-08-15T10:39:27.830Z"
   },
   {
    "duration": 54,
    "start_time": "2023-08-15T10:39:27.898Z"
   },
   {
    "duration": 56,
    "start_time": "2023-08-15T10:39:27.954Z"
   },
   {
    "duration": 57,
    "start_time": "2023-08-15T10:39:28.011Z"
   }
  ],
  "kernelspec": {
   "display_name": "Python 3 (ipykernel)",
   "language": "python",
   "name": "python3"
  },
  "language_info": {
   "codemirror_mode": {
    "name": "ipython",
    "version": 3
   },
   "file_extension": ".py",
   "mimetype": "text/x-python",
   "name": "python",
   "nbconvert_exporter": "python",
   "pygments_lexer": "ipython3",
   "version": "3.10.9"
  },
  "toc": {
   "base_numbering": 1,
   "nav_menu": {},
   "number_sections": false,
   "sideBar": true,
   "skip_h1_title": true,
   "title_cell": "Table of Contents",
   "title_sidebar": "Contents",
   "toc_cell": false,
   "toc_position": {},
   "toc_section_display": true,
   "toc_window_display": true
  }
 },
 "nbformat": 4,
 "nbformat_minor": 5
}
